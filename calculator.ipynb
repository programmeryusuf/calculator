print("\033[2mCALCULATOR\033[0m")

import ipywidgets as widgets
from IPython.display import display

text_box = widgets.Text(value='', placeholder='enter', layout=widgets.Layout(width='700px'))
btn_0 = widgets.Button(description='0')
btn_1 = widgets.Button(description='1')
btn_2 = widgets.Button(description='2')
btn_3 = widgets.Button(description='3')
btn_4 = widgets.Button(description='4')
btn_5 = widgets.Button(description='5')
btn_6 = widgets.Button(description='6')
btn_7 = widgets.Button(description='7')
btn_8 = widgets.Button(description='8')
btn_9 = widgets.Button(description='9')
btn_add = widgets.Button(description='+')  
btn_sub = widgets.Button(description='-')
btn_mul = widgets.Button(description= '*')
btn_div = widgets.Button(description='/')
btn_clear = widgets.Button(description='C')
btn_cal = widgets.Button(description='=')
btn_del = widgets.Button(description='DEL')


def on_button_click(btn):
    if btn.description == 'C':
        text_box.value = ''
    elif btn.description in ['+', '-', 'X', '/']:
        text_box.value += ' ' + btn.description + ' '  
    elif btn.description == '=':
        try:
            result = eval(text_box.value)
            text_box.value = str(result)
        except:
            text_box.value = 'error'   
    elif btn.description == 'DEL':
        text_box.value = text_box.value[:-1]
    else:
        text_box.value += btn.description


btn_0.on_click(on_button_click)
btn_1.on_click(on_button_click)
btn_2.on_click(on_button_click)
btn_3.on_click(on_button_click)
btn_4.on_click(on_button_click)
btn_5.on_click(on_button_click)
btn_6.on_click(on_button_click)
btn_7.on_click(on_button_click)
btn_8.on_click(on_button_click)
btn_9.on_click(on_button_click)
btn_add.on_click(on_button_click)
btn_sub.on_click(on_button_click)
btn_mul.on_click(on_button_click)
btn_div.on_click(on_button_click)
btn_clear.on_click(on_button_click)
btn_cal.on_click(on_button_click)
btn_del.on_click(on_button_click)

display(widgets.VBox([
    text_box,
    widgets.HBox([btn_7, btn_8, btn_9, btn_div]),
    widgets.HBox([btn_4, btn_5, btn_6, btn_mul]),
    widgets.HBox([btn_1, btn_2, btn_3, btn_sub]),
    widgets.HBox([btn_clear, btn_0, btn_add, btn_cal, btn_del])
]))
